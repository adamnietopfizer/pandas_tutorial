{
 "cells": [
  {
   "cell_type": "markdown",
   "metadata": {},
   "source": [
    "# Data Science Thursdays: Pandas Tutorial 🐼\n",
    "\n",
    "Sources: Similar to lesson from https://www.youtube.com/watch?v=e60ItwlZTKM\"\n",
    "\n",
    "---"
   ]
  },
  {
   "cell_type": "code",
   "execution_count": null,
   "metadata": {},
   "outputs": [],
   "source": [
    "import pandas as pd"
   ]
  },
  {
   "cell_type": "markdown",
   "metadata": {},
   "source": [
    "---\n",
    "\n",
    "### Lesson 1: Loading Hardcoded Data into a Data Frame"
   ]
  },
  {
   "cell_type": "markdown",
   "metadata": {},
   "source": [
    "If you ever need to load hardcoded data into a dataframe you can do it like this:"
   ]
  },
  {
   "cell_type": "code",
   "execution_count": null,
   "metadata": {},
   "outputs": [],
   "source": [
    "df = pd.DataFrame(\n",
    "    [\n",
    "        [\"Jan\", 56, 47, 73, 20, 2.90],\n",
    "        [\"Feb\", 62, 48, 78, 23, 3.02],\n",
    "        [\"Mar\", 66, 49, 84, 25, 2.33],\n",
    "        [\"Apr\", 68, 51, 92, 28, 1.02],\n",
    "        [\"May\", 70, 52, 107, 35, 0.42],\n",
    "        [\"Jun\", 73, 54, 105, 36, 0.12],\n",
    "        [\"Jul\", 74, 58, 102, 41, 0.01],\n",
    "        [\"Aug\", 76, 59, 101, 44, 0.03],\n",
    "        [\"Sept\", 78, 54, 105, 40, 0.16],\n",
    "        [\"Oct\", 79, 47, 97, 34, 0.82],\n",
    "        [\"Nov\", 65, 43, 83, 30, 1.70],\n",
    "        [\"Dec\", 47, 40, 73, 21, 2.56]\n",
    "    ],\n",
    "    index = [0,1,2,3,4,5,6,7,8,9,10,11],\n",
    "    columns = [\"month\",\"avg_height\",\"avg_low\",\"record_high\",\"record_low\",\"avg_percepitation\"]\n",
    ")"
   ]
  },
  {
   "cell_type": "code",
   "execution_count": null,
   "metadata": {},
   "outputs": [],
   "source": [
    "# Let's print the dataframe\n"
   ]
  },
  {
   "cell_type": "markdown",
   "metadata": {},
   "source": [
    "---\n",
    "### Lesson 2: Reading a textfile into a dataframe"
   ]
  },
  {
   "cell_type": "markdown",
   "metadata": {},
   "source": [
    "Let's read the csv file \"heart.csv\""
   ]
  },
  {
   "cell_type": "code",
   "execution_count": null,
   "metadata": {},
   "outputs": [],
   "source": [
    "filename = \"heart.csv\"\n",
    "df = \n",
    "\n",
    "print(df)"
   ]
  },
  {
   "cell_type": "markdown",
   "metadata": {},
   "source": [
    "---\n",
    "\n",
    "### Lesson 3: Printing the first 6 and last 2 rows of the data frame"
   ]
  },
  {
   "cell_type": "code",
   "execution_count": null,
   "metadata": {},
   "outputs": [],
   "source": [
    "# Show the first 6 rows\n"
   ]
  },
  {
   "cell_type": "code",
   "execution_count": null,
   "metadata": {},
   "outputs": [],
   "source": [
    "# Show the last 2 rows\n"
   ]
  },
  {
   "cell_type": "markdown",
   "metadata": {},
   "source": [
    "By default the head method will print at most 5 rows of the data frame"
   ]
  },
  {
   "cell_type": "code",
   "execution_count": null,
   "metadata": {},
   "outputs": [],
   "source": [
    "# Show the first 5 rows\n"
   ]
  },
  {
   "cell_type": "markdown",
   "metadata": {},
   "source": [
    "---\n",
    "\n",
    "### Lesson 4: Getting the datatypes, index, columns, and values"
   ]
  },
  {
   "cell_type": "code",
   "execution_count": null,
   "metadata": {},
   "outputs": [],
   "source": [
    "# Print out the dtypes of the dataframe\n"
   ]
  },
  {
   "cell_type": "code",
   "execution_count": null,
   "metadata": {},
   "outputs": [],
   "source": [
    "# Set the variable \"ind\" to the index of the dataframe and then print out the variable \"ind\"\n",
    "ind = \n",
    "print(ind)"
   ]
  },
  {
   "cell_type": "code",
   "execution_count": null,
   "metadata": {},
   "outputs": [],
   "source": [
    "# Print out the variable \"ind\" as a list\n"
   ]
  },
  {
   "cell_type": "code",
   "execution_count": null,
   "metadata": {},
   "outputs": [],
   "source": [
    "# Set the variable \"cols\" to the columns of the dataframe and then print out the variable \"cols\"\n",
    "cols = \n",
    "print(cols)"
   ]
  },
  {
   "cell_type": "code",
   "execution_count": null,
   "metadata": {},
   "outputs": [],
   "source": [
    "# Print out the variable \"cols\" as a list\n"
   ]
  },
  {
   "cell_type": "markdown",
   "metadata": {},
   "source": [
    "---\n",
    "\n",
    "### Lesson 5: Getting a statistical summary of each column"
   ]
  },
  {
   "cell_type": "code",
   "execution_count": null,
   "metadata": {},
   "outputs": [],
   "source": [
    "# Get the statistical summary of the dataframe\n"
   ]
  },
  {
   "cell_type": "markdown",
   "metadata": {},
   "source": [
    "---\n",
    "\n",
    "### Lesson 6: Sorting records by any column"
   ]
  },
  {
   "cell_type": "code",
   "execution_count": null,
   "metadata": {},
   "outputs": [],
   "source": [
    "# Sort the records by the \"age\" column in descending order (by default ascending is set to True)\n"
   ]
  },
  {
   "cell_type": "markdown",
   "metadata": {},
   "source": [
    "---\n",
    "\n",
    "### Lesson 7: Slicing Records"
   ]
  },
  {
   "cell_type": "code",
   "execution_count": null,
   "metadata": {},
   "outputs": [],
   "source": [
    "# Show the column \"sex\" using dot notation\n"
   ]
  },
  {
   "cell_type": "code",
   "execution_count": null,
   "metadata": {},
   "outputs": [],
   "source": [
    "# Show the column \"sex\" using array notation\n"
   ]
  },
  {
   "cell_type": "code",
   "execution_count": null,
   "metadata": {},
   "outputs": [],
   "source": [
    "# Show the dataframe with only rows 2 through 3\n"
   ]
  },
  {
   "cell_type": "code",
   "execution_count": null,
   "metadata": {},
   "outputs": [],
   "source": [
    "# Show only the columns \"age\", \"sex\", and \"trestbps\"\n"
   ]
  },
  {
   "cell_type": "code",
   "execution_count": null,
   "metadata": {},
   "outputs": [],
   "source": [
    "# Show only the 7th row (scalar value) with columns \"age\", \"sex\", and \"trestbps\" using the loc method\n"
   ]
  },
  {
   "cell_type": "code",
   "execution_count": null,
   "metadata": {},
   "outputs": [],
   "source": [
    "# Show only the rows 2 through 4 with only the columns \"age\", \"sex\", and \"trestbps\" using the loc method\n"
   ]
  },
  {
   "cell_type": "code",
   "execution_count": null,
   "metadata": {},
   "outputs": [],
   "source": [
    "# Now do the same thing we did above but using the column indices 0, 1, and 3 and a method similar to loc\n"
   ]
  },
  {
   "cell_type": "markdown",
   "metadata": {},
   "source": [
    "---\n",
    "\n",
    "### Lesson 8: Filtering or Querying"
   ]
  },
  {
   "cell_type": "code",
   "execution_count": null,
   "metadata": {},
   "outputs": [],
   "source": [
    "# Let's query for all the records whose age is greater than 30 and assign it to the variable gt_thirty\n",
    "gt_thirty = \n",
    "gt_thirty # show dataframe"
   ]
  },
  {
   "cell_type": "code",
   "execution_count": null,
   "metadata": {},
   "outputs": [],
   "source": [
    "# Lets use a different dataset called \"patient_no_show.csv\"\n",
    "df = pd.read_csv(\"patient_no_show.csv\")\n",
    "df.head(6)"
   ]
  },
  {
   "cell_type": "code",
   "execution_count": null,
   "metadata": {},
   "outputs": [],
   "source": [
    "# Query for patients only in the following neighborhoods \"JARDIM DA PENHA\", \n",
    "# \"MATA DA PRAIA\", and \"CONQUISTA\" assignment it to variable important_group\n",
    "\n",
    "important_group = \n",
    "\n",
    "important_group"
   ]
  },
  {
   "cell_type": "markdown",
   "metadata": {},
   "source": [
    "\n",
    "---\n",
    "### Lesson 9: Assignment"
   ]
  },
  {
   "cell_type": "code",
   "execution_count": null,
   "metadata": {},
   "outputs": [],
   "source": [
    "import numpy as np"
   ]
  },
  {
   "cell_type": "code",
   "execution_count": null,
   "metadata": {},
   "outputs": [],
   "source": [
    "# Let's set the \"Handcap\" column in row 4 in the dataframe to 1\n",
    "\n",
    "important_group.loc[4:20]"
   ]
  },
  {
   "cell_type": "code",
   "execution_count": null,
   "metadata": {},
   "outputs": [],
   "source": [
    "# Now set \"Handcap\" column in row 9 to np.nan or (not a number)\n",
    "# Note: A np.nan value handles data very well when we are missing values\n",
    "\n",
    "important_group.loc[4:20]"
   ]
  },
  {
   "cell_type": "code",
   "execution_count": null,
   "metadata": {},
   "outputs": [],
   "source": [
    "# Let's make all of the patients in the dataframe df have the age 50\n",
    "\n",
    "df "
   ]
  },
  {
   "cell_type": "code",
   "execution_count": null,
   "metadata": {},
   "outputs": [],
   "source": [
    "# Now let's make a new column named \"Reviewer\" and set it equal to your name\n",
    "df[\"Reviewer\"] = \n",
    "df"
   ]
  },
  {
   "cell_type": "markdown",
   "metadata": {},
   "source": [
    "---\n",
    "\n",
    "### Lesson 10: Renaming Columns"
   ]
  },
  {
   "cell_type": "code",
   "execution_count": null,
   "metadata": {},
   "outputs": [],
   "source": [
    "# Rename the column \"SMS_received\" to \"SMS_recv\" and use inplace= True\n",
    "# inplace = True will save the changes for you in the background instead of reassigning df to itself\n",
    "\n",
    "\n",
    "df"
   ]
  },
  {
   "cell_type": "code",
   "execution_count": null,
   "metadata": {},
   "outputs": [],
   "source": [
    "# Do the same thing except change back to \"SMS_received\" it using df.columns\n",
    "df.columns = ['PatientId','AppointmentID','Gender','ScheduledDay','AppointmentDay','Age',\n",
    "              'Neighbourhood','Scholarship','Hipertension','Diabetes','Alcoholism','Handcap',\n",
    "              'SMS_recv','No-show','Reviewer']\n",
    "df"
   ]
  },
  {
   "cell_type": "markdown",
   "metadata": {},
   "source": [
    "---\n",
    "\n",
    "### Lesson 11: Writing to a CSV file"
   ]
  },
  {
   "cell_type": "code",
   "execution_count": null,
   "metadata": {},
   "outputs": [],
   "source": [
    "# Write the diabetes_patients to a csv file called \"diabetes_patients.csv\"\n",
    "filename = \"diabetes_patients.csv\"\n",
    "\n",
    "diabetes_patients_csv = pd.read_csv(filename)\n",
    "diabetes_patients_csv.head(6)\n"
   ]
  },
  {
   "cell_type": "code",
   "execution_count": null,
   "metadata": {},
   "outputs": [],
   "source": []
  }
 ],
 "metadata": {
  "kernelspec": {
   "display_name": "Python 3",
   "language": "python",
   "name": "python3"
  },
  "language_info": {
   "codemirror_mode": {
    "name": "ipython",
    "version": 3
   },
   "file_extension": ".py",
   "mimetype": "text/x-python",
   "name": "python",
   "nbconvert_exporter": "python",
   "pygments_lexer": "ipython3",
   "version": "3.7.1"
  }
 },
 "nbformat": 4,
 "nbformat_minor": 2
}
